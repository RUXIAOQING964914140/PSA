{
 "cells": [
  {
   "cell_type": "code",
   "execution_count": 1,
   "metadata": {},
   "outputs": [],
   "source": [
    "import pandas as pd\n",
    "import numpy as np\n",
    "from scipy import stats"
   ]
  },
  {
   "cell_type": "code",
   "execution_count": 2,
   "metadata": {},
   "outputs": [],
   "source": [
    "# Features include: mean, standard deviation, median, count of non-missing affinity values, mode, top 5 maximum values, and top 5 minimum values per row (calculated after removing NaNs), totaling 15 dimensions.\n",
    "# The features on the KIBA dataset will have 3 fewer dimensions than those on the Davis dataset\n",
    "\n"
   ]
  },
  {
   "cell_type": "code",
   "execution_count": 7,
   "metadata": {},
   "outputs": [
    {
     "data": {
      "text/plain": [
       "'KIBA_Drug_feature.csv'"
      ]
     },
     "execution_count": 7,
     "metadata": {},
     "output_type": "execute_result"
    }
   ],
   "source": [
    "import pandas as pd\n",
    "import numpy as np\n",
    "from scipy.stats import mode\n",
    "\n",
    "# Assume file path\n",
    "file_path = 'kiba_binding_affinity_matric.txt'  # Replace with actual file path\n",
    "\n",
    "# Read file, using the first row as column names and the first column as index\n",
    "df = pd.read_csv(file_path, sep=\"\\t\", index_col=0)\n",
    "\n",
    "# Define a function to calculate statistical features\n",
    "def calculate_stats(row):\n",
    "    non_nan_values = row.dropna()  # Remove NaN values\n",
    "    count = len(non_nan_values)  # Number of non-NaN values\n",
    "    mean = non_nan_values.mean() if count > 0 else np.nan  # Mean\n",
    "    std = non_nan_values.std() if count > 0 else np.nan  # Standard deviation\n",
    "    median = non_nan_values.median() if count > 0 else np.nan  # Median\n",
    "    # mode_value = mode(non_nan_values).mode[0] if count > 0 else np.nan  # Mode\n",
    "    # Calculate mode, considering the possibility of scalar return\n",
    "    if count > 0:\n",
    "        mode_result = mode(non_nan_values)\n",
    "        if isinstance(mode_result.mode, np.ndarray):  # If it’s an array type\n",
    "            mode_value = mode_result.mode[0] if mode_result.mode.size > 0 else np.nan\n",
    "        else:  # If it’s directly a scalar\n",
    "            mode_value = mode_result.mode\n",
    "    else:\n",
    "        mode_value = np.nan\n",
    "    \n",
    "    top_5 = non_nan_values.nlargest(5).tolist() if count >= 5 else non_nan_values.tolist()  # Top 5 maximum values\n",
    "    while len(top_5) < 5:\n",
    "        top_5.append(np.nan)  # Fill with NaN if fewer than 5 values\n",
    "    bottom_5 = non_nan_values.nsmallest(5).tolist() if count >= 5 else non_nan_values.tolist()  # Top 5 minimum values\n",
    "    while len(bottom_5) < 5:\n",
    "        bottom_5.append(np.nan)  # Fill with NaN if fewer than 5 values\n",
    "    return [count, mean, std, median, mode_value] + top_5 + bottom_5\n",
    "\n",
    "# Apply to each row\n",
    "results = df.apply(calculate_stats, axis=1, result_type='expand')\n",
    "\n",
    "# Set column names\n",
    "columns = ['Count', 'Mean', 'Std', 'Median', 'Mode'] + [f'Top_{i+1}' for i in range(5)] + [f'Bottom_{i+1}' for i in range(5)]\n",
    "results.columns = columns\n",
    "\n",
    "# Add Drug ID column\n",
    "results.insert(0, 'Drug_ID', df.index)\n",
    "\n",
    "# Save to file\n",
    "output_file_path = 'KIBA_Drug_feature.csv'\n",
    "results.to_csv(output_file_path, index=False)\n",
    "\n",
    "output_file_path\n"
   ]
  },
  {
   "cell_type": "code",
   "execution_count": 8,
   "metadata": {},
   "outputs": [
    {
     "data": {
      "text/plain": [
       "'KIBA_Protein_feature.csv'"
      ]
     },
     "execution_count": 8,
     "metadata": {},
     "output_type": "execute_result"
    }
   ],
   "source": [
    "import pandas as pd\n",
    "import numpy as np\n",
    "from scipy.stats import mode\n",
    "\n",
    "# Assume file path\n",
    "file_path = 'Tran_kiba_binding_affinity.txt'  # Replace with the actual file path\n",
    "\n",
    "# Read file, using the first row as column names and the first column as index\n",
    "df = pd.read_csv(file_path, sep=\"\\t\", index_col=0)\n",
    "\n",
    "# Define a function to calculate statistical features\n",
    "def calculate_stats(row):\n",
    "    non_nan_values = row.dropna()  # Remove NaN values\n",
    "    count = len(non_nan_values)  # Number of non-NaN values\n",
    "    mean = non_nan_values.mean() if count > 0 else np.nan  # Mean\n",
    "    std = non_nan_values.std() if count > 0 else np.nan  # Standard deviation\n",
    "    median = non_nan_values.median() if count > 0 else np.nan  # Median\n",
    "    # mode_value = mode(non_nan_values).mode[0] if count > 0 else np.nan  # Mode\n",
    "    # Calculate mode, considering the possibility of scalar return\n",
    "    if count > 0:\n",
    "        mode_result = mode(non_nan_values)\n",
    "        if isinstance(mode_result.mode, np.ndarray):  # If it’s an array type\n",
    "            mode_value = mode_result.mode[0] if mode_result.mode.size > 0 else np.nan\n",
    "        else:  # If it’s directly a scalar\n",
    "            mode_value = mode_result.mode\n",
    "    else:\n",
    "        mode_value = np.nan\n",
    "    \n",
    "    top_5 = non_nan_values.nlargest(5).tolist() if count >= 5 else non_nan_values.tolist()  # Top 5 maximum values\n",
    "    while len(top_5) < 5:\n",
    "        top_5.append(np.nan)  # Fill with NaN if fewer than 5 values\n",
    "    bottom_5 = non_nan_values.nsmallest(5).tolist() if count >= 5 else non_nan_values.tolist()  # Top 5 minimum values\n",
    "    while len(bottom_5) < 5:\n",
    "        bottom_5.append(np.nan)  # Fill with NaN if fewer than 5 values\n",
    "    return [count, mean, std, median, mode_value] + top_5 + bottom_5\n",
    "\n",
    "# Apply to each row\n",
    "results = df.apply(calculate_stats, axis=1, result_type='expand')\n",
    "\n",
    "# Set column names\n",
    "columns = ['Count', 'Mean', 'Std', 'Median', 'Mode'] + [f'Top_{i+1}' for i in range(5)] + [f'Bottom_{i+1}' for i in range(5)]\n",
    "results.columns = columns\n",
    "\n",
    "# Add Protein ID column\n",
    "results.insert(0, 'Protein_ID', df.index)\n",
    "\n",
    "# Save to file\n",
    "output_file_path = 'KIBA_Protein_feature.csv'\n",
    "results.to_csv(output_file_path, index=False)\n",
    "\n",
    "output_file_path\n"
   ]
  },
  {
   "cell_type": "code",
   "execution_count": null,
   "metadata": {},
   "outputs": [],
   "source": []
  }
 ],
 "metadata": {
  "kernelspec": {
   "display_name": "letter_env",
   "language": "python",
   "name": "python3"
  },
  "language_info": {
   "codemirror_mode": {
    "name": "ipython",
    "version": 3
   },
   "file_extension": ".py",
   "mimetype": "text/x-python",
   "name": "python",
   "nbconvert_exporter": "python",
   "pygments_lexer": "ipython3",
   "version": "3.13.1"
  }
 },
 "nbformat": 4,
 "nbformat_minor": 2
}
