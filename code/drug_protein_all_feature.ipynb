{
 "cells": [
  {
   "cell_type": "code",
   "execution_count": 1,
   "id": "5dcc3552-7d8f-4dc3-b3b9-52a678e8b103",
   "metadata": {},
   "outputs": [],
   "source": [
    "import pandas as pd"
   ]
  },
  {
   "cell_type": "code",
   "execution_count": 2,
   "id": "dd31f055-8357-4b97-8841-e1e69d67e50c",
   "metadata": {},
   "outputs": [],
   "source": [
    "# Treat the 227 protein data rows as one group, and repeat the group 2111 times\n",
    "import pandas as pd\n",
    "\n",
    "# Read the input CSV file\n",
    "df = pd.read_csv('mafft/KIBA_mafft_nerfea.csv', header=None)\n",
    "df   \n",
    "\n",
    "# Repeat the entire group (all rows) 2111 times\n",
    "repeated_df = pd.concat([df] * 2111, ignore_index=True)\n",
    "\n",
    "# Save the result to a new CSV file\n",
    "repeated_df.to_csv('mafft/KIBA_mafft_nerfea_2111.csv', index=False, header=None)\n"
   ]
  },
  {
   "cell_type": "code",
   "execution_count": 7,
   "id": "ce45a6a3-75dc-40f4-824b-6601c0f0ff3b",
   "metadata": {},
   "outputs": [],
   "source": [
    "#Repeat each drug data row 227 times\n",
    "df = pd.read_csv('KIBA_drug_nerfea.csv',header = None)\n",
    "repeated_df = df.loc[df.index.repeat(227)].reset_index(drop=True)\n",
    "repeated_df.to_csv('KIBA_Drug_nerfea_2111.csv', index=False,header = None)"
   ]
  },
  {
   "cell_type": "code",
   "execution_count": 8,
   "id": "c036273a",
   "metadata": {},
   "outputs": [],
   "source": [
    "# Merge drug features, general/special protein features, and protein affinity features\n",
    "import pandas as pd\n",
    "\n",
    "df1 = pd.read_csv('KIBA_Drug_nerfea_2111.csv', header=None)\n",
    "df2 = pd.read_csv('mafft/KIBA_mafft_nerfea_2111.csv', header=None)\n",
    "df3 = pd.read_csv('mafft/KIBA_affinity_fea.csv', header=None)\n",
    "\n",
    "# Fill NaN values with -5\n",
    "df3.fillna(-5, inplace=True)\n",
    "\n",
    "# df4 = pd.read_csv('top_5_columns/Davis__foldseek_nerFea.csv', header=None)\n",
    "merged_df = pd.concat([df1, df2, df3], axis=1)\n",
    "\n",
    "merged_df.to_csv('mafft/KIBA_mafft_allfea.csv', index=False, header=None)\n",
    "\n",
    "# a = pd.read_csv('concat_fea/Davis_foldseek_feature.csv', header=None)\n"
   ]
  },
  {
   "cell_type": "code",
   "execution_count": 19,
   "id": "0b98435a",
   "metadata": {},
   "outputs": [
    {
     "name": "stdout",
     "output_type": "stream",
     "text": [
      "文件已处理并保存到 mafft/KIBA_mafft_allfea_filled.csv\n"
     ]
    }
   ],
   "source": [
    "# Fill NaN values with -5\n",
    "import pandas as pd\n",
    "\n",
    "# File paths\n",
    "file_path = 'mafft/KIBA_mafft_allfea.csv'  # Replace with your file path\n",
    "output_file_path = 'mafft/KIBA_mafft_allfea_filled.csv'  # Output file path\n",
    "\n",
    "# Load data\n",
    "df = pd.read_csv(file_path, header=None)\n",
    "\n",
    "# Fill NaN values with -5\n",
    "df.fillna(-5, inplace=True)\n",
    "\n",
    "# Save the filled data to a new file\n",
    "df.to_csv(output_file_path, index=False, header=None)\n",
    "\n",
    "print(f\"The file has been processed and saved to {output_file_path}\")\n"
   ]
  },
  {
   "cell_type": "code",
   "execution_count": 23,
   "id": "68ba10cb-7143-4828-a2d6-f4e93618a62d",
   "metadata": {},
   "outputs": [
    {
     "name": "stdout",
     "output_type": "stream",
     "text": [
      "归一化后的数据已保存到 mafft/KIBA_mafft_allfea_normalized.csv 文件中。\n"
     ]
    }
   ],
   "source": [
    "# Normalize the merged sample data containing all features\n",
    "import pandas as pd\n",
    "from sklearn.preprocessing import MinMaxScaler\n",
    "\n",
    "# File paths\n",
    "input_path = \"mafft/KIBA_mafft_allfea_filled.csv\"  # Input file path\n",
    "output_path = \"mafft/KIBA_mafft_allfea_normalized.csv\"  # Output file path\n",
    "\n",
    "# Read data\n",
    "data = pd.read_csv(input_path, header=None)\n",
    "\n",
    "# Normalize data (Min-Max Scaling)\n",
    "scaler = MinMaxScaler()\n",
    "data_normalized = scaler.fit_transform(data)\n",
    "\n",
    "# Convert to DataFrame and save\n",
    "normalized_df = pd.DataFrame(data_normalized)\n",
    "normalized_df.to_csv(output_path, index=False, header=False)\n",
    "\n",
    "print(f\"The normalized data has been saved to {output_path}.\")\n"
   ]
  },
  {
   "cell_type": "code",
   "execution_count": 28,
   "id": "e8604e97",
   "metadata": {},
   "outputs": [
    {
     "name": "stderr",
     "output_type": "stream",
     "text": [
      "/tmp/ipykernel_1539727/2054373851.py:16: PerformanceWarning: DataFrame is highly fragmented.  This is usually the result of calling `frame.insert` many times, which has poor performance.  Consider joining all columns at once using pd.concat(axis=1) instead. To get a de-fragmented frame, use `newframe = frame.copy()`\n",
      "  data[\"#索引值\"] = [f\"#{i}\" for i in range(1, num_rows + 1)]\n"
     ]
    },
    {
     "name": "stdout",
     "output_type": "stream",
     "text": [
      "处理后的数据已保存到 mafft/KIBA_mafft_allfea_with_indices.csv 文件中。\n"
     ]
    }
   ],
   "source": [
    "import pandas as pd\n",
    "\n",
    "# File paths\n",
    "input_path = \"mafft/KIBA_mafft_allfea_normalized.csv\"  # Input file path\n",
    "output_path = \"mafft/KIBA_mafft_allfea_with_indices.csv\"  # Output file path\n",
    "\n",
    "# Read the normalized data\n",
    "data = pd.read_csv(input_path, header=None)\n",
    "\n",
    "# Add feature index prefix to each column value\n",
    "for col in data.columns:\n",
    "    data[col] = data[col].apply(lambda x: f\"{col + 1}:{x}\")\n",
    "\n",
    "# Add a final column with row indices\n",
    "num_rows = data.shape[0]\n",
    "data[\"#Index\"] = [f\"#{i}\" for i in range(1, num_rows + 1)]\n",
    "\n",
    "# Save the result to file\n",
    "data.to_csv(output_path, index=False, header=False)\n",
    "\n",
    "print(f\"The processed data has been saved to {output_path}.\")\n"
   ]
  },
  {
   "cell_type": "code",
   "execution_count": 33,
   "id": "3c055b0b-c075-48fc-8cd2-3596e35a8276",
   "metadata": {},
   "outputs": [
    {
     "name": "stdout",
     "output_type": "stream",
     "text": [
      "处理后的数据已保存到 kiba_matrix_triplets_qid.csv 文件中。\n"
     ]
    }
   ],
   "source": [
    "# Merge affinity values, qid, and features to create the file format needed for L2R\n",
    "# S1: Add \"qid:\" prefix to DrugID from Davis_matrix_triplets.csv, then output the third column (affinity) and qid:DrugID to a new file\n",
    "\n",
    "import pandas as pd\n",
    "\n",
    "# File paths\n",
    "input_path = \"kiba_matrix_triplets.csv\"  # Input file path\n",
    "output_path = \"kiba_matrix_triplets_qid.csv\"  # Output file path\n",
    "\n",
    "# Read data\n",
    "data = pd.read_csv(input_path, header=None)\n",
    "data.columns = [\"DrugID\", \"ProteinID\", \"Affinity\"]\n",
    "\n",
    "# Fill NaN values with -5\n",
    "data.fillna(-5, inplace=True)\n",
    "\n",
    "# Add \"qid:\" prefix to DrugID\n",
    "data[\"DrugID\"] = data[\"DrugID\"].apply(lambda x: f\"qid:{x}\")\n",
    "\n",
    "# Output the third column (Affinity) and the prefixed DrugID\n",
    "output_data = data[[\"Affinity\", \"DrugID\"]]\n",
    "output_data.to_csv(output_path, index=False, header=False)\n",
    "\n",
    "print(f\"The processed data has been saved to {output_path}.\")\n"
   ]
  },
  {
   "cell_type": "code",
   "execution_count": 34,
   "id": "cf235c8b",
   "metadata": {},
   "outputs": [],
   "source": [
    "#Davis_matrix_triplets_qid.csv + mafft/Davis_mafft_allfea_with_indices.csv\n",
    "df4 = pd.read_csv('kiba_matrix_triplets_qid.csv',header = None)\n",
    "df5 = pd.read_csv('mafft/KIBA_mafft_allfea_with_indices.csv',header = None)\n",
    "#df3 = pd.read_csv('mafft/Davis_affinity_fea.csv',header = None)\n",
    "#df4 = pd.read_csv('top_5_columns/Davis__foldseek_nerFea.csv',header = None)\n",
    "merged_df = pd.concat([df4, df5], axis=1)\n",
    "merged_df.to_csv('mafft/KIBA_mafft_all.csv',index = False,header = None)\n",
    "#a = pd.read_csv('concat_fea/Davis_foldseek_feature.csv',header = None)"
   ]
  }
 ],
 "metadata": {
  "kernelspec": {
   "display_name": "Python 3 (ipykernel)",
   "language": "python",
   "name": "python3"
  },
  "language_info": {
   "codemirror_mode": {
    "name": "ipython",
    "version": 3
   },
   "file_extension": ".py",
   "mimetype": "text/x-python",
   "name": "python",
   "nbconvert_exporter": "python",
   "pygments_lexer": "ipython3",
   "version": "3.13.1"
  }
 },
 "nbformat": 4,
 "nbformat_minor": 5
}
