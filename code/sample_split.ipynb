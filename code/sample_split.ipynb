{
 "cells": [
  {
   "cell_type": "code",
   "execution_count": 1,
   "metadata": {},
   "outputs": [
    {
     "name": "stdout",
     "output_type": "stream",
     "text": [
      "样本已提取并保存到 mafft_samples/train_indices_fold_1.txt\n",
      "样本已提取并保存到 mafft_samples/test_indices_fold_1.txt\n",
      "样本已提取并保存到 mafft_samples/train_indices_fold_2.txt\n",
      "样本已提取并保存到 mafft_samples/test_indices_fold_2.txt\n",
      "样本已提取并保存到 mafft_samples/train_indices_fold_3.txt\n",
      "样本已提取并保存到 mafft_samples/test_indices_fold_3.txt\n",
      "样本已提取并保存到 mafft_samples/train_indices_fold_4.txt\n",
      "样本已提取并保存到 mafft_samples/test_indices_fold_4.txt\n",
      "样本已提取并保存到 mafft_samples/train_indices_fold_5.txt\n",
      "样本已提取并保存到 mafft_samples/test_indices_fold_5.txt\n"
     ]
    }
   ],
   "source": [
    "import pandas as pd\n",
    "import os\n",
    "\n",
    "# Folder paths\n",
    "indices_folder = \"train_test_fold/\"  # Folder containing index files\n",
    "mafft_file_path = \"mafft/KIBA_mafft_all.csv\"  # MAFFT file path\n",
    "output_folder = \"mafft_samples/\"  # Output folder\n",
    "\n",
    "# Ensure the output folder exists\n",
    "os.makedirs(output_folder, exist_ok=True)\n",
    "\n",
    "# Read MAFFT data\n",
    "data_mafft = pd.read_csv(mafft_file_path, header=None)\n",
    "\n",
    "# Iterate over index files in the train_test_fold folder\n",
    "for file_name in os.listdir(indices_folder):\n",
    "    if file_name.endswith(\".csv\"):\n",
    "        # Read the index file\n",
    "        indices_path = os.path.join(indices_folder, file_name)\n",
    "        indices_data = pd.read_csv(indices_path, header=None)\n",
    "\n",
    "        # Extract samples corresponding to the index values\n",
    "        extracted_data = data_mafft.iloc[indices_data[0].values]\n",
    "\n",
    "        # Save to the output file, changing the extension to .txt\n",
    "        output_file_name = file_name.replace(\".csv\", \".txt\")\n",
    "        output_file_path = os.path.join(output_folder, output_file_name)\n",
    "        extracted_data.to_csv(output_file_path, index=False, header=False, sep=\"\\t\")\n",
    "\n",
    "        print(f\"Samples have been extracted and saved to {output_file_path}\")\n"
   ]
  }
 ],
 "metadata": {
  "kernelspec": {
   "display_name": "letter_env",
   "language": "python",
   "name": "python3"
  },
  "language_info": {
   "codemirror_mode": {
    "name": "ipython",
    "version": 3
   },
   "file_extension": ".py",
   "mimetype": "text/x-python",
   "name": "python",
   "nbconvert_exporter": "python",
   "pygments_lexer": "ipython3",
   "version": "3.13.1"
  }
 },
 "nbformat": 4,
 "nbformat_minor": 2
}
