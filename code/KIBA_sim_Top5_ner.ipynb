{
 "cells": [
  {
   "cell_type": "code",
   "execution_count": 1,
   "metadata": {},
   "outputs": [],
   "source": [
    "#Convert similarity results into a similarity matrix format\n",
    "import pandas as pd\n",
    "columns = [\"query_id\", \"subject_id\", \"identity\", \"alignment_length\", \"mismatches\", \"gap_opens\", \"q_start\", \"q_end\", \"s_start\", \"s_end\", \"e_value\", \"bit_score\"]\n",
    "blast_results = pd.read_csv(\"KIBA_Blast_result.txt\", sep=\"\\t\", names=columns)\n",
    "# Retrieve all unique protein IDs\n",
    "protein_ids = sorted(set(blast_results[\"query_id\"]).union(set(blast_results[\"subject_id\"])))\n",
    "# Initialize the similarity matrix\n",
    "similarity_matrix = pd.DataFrame(0, index=protein_ids, columns=protein_ids, dtype=float)\n",
    "for _, row in blast_results.iterrows():\n",
    "    query_id = row[\"query_id\"]\n",
    "    subject_id = row[\"subject_id\"]\n",
    "    identity = row[\"identity\"]\n",
    "    similarity_matrix.loc[query_id, subject_id] = identity\n",
    "    similarity_matrix.loc[subject_id, query_id] = identity  # 对称矩阵\n",
    "# Save the similarity matrix to a CSV file\n",
    "similarity_matrix.to_csv(\"KIBA_Blast_similarity_matrix.csv\")"
   ]
  },
  {
   "cell_type": "code",
   "execution_count": 4,
   "metadata": {},
   "outputs": [
    {
     "data": {
      "text/plain": [
       "'/home/rux/letter/KIBA/KIBA_Blast_top_5.csv'"
      ]
     },
     "execution_count": 4,
     "metadata": {},
     "output_type": "execute_result"
    }
   ],
   "source": [
    "\n",
    "#Find the top 5 neighbors\n",
    "file_path = 'KIBA_Blast_similarity_matrix.csv'  \n",
    "df = pd.read_csv(file_path, index_col=0)  \n",
    "\n",
    "def get_top_5_columns_excluding_diagonal(row):\n",
    "    row_index = row.name\n",
    "    row_series = pd.Series(row, index=df.columns)\n",
    "\n",
    "    if row_index in df.columns:\n",
    "        row_series.drop(row_index, inplace=True)\n",
    "\n",
    "    top_5_columns = row_series.nlargest(5).index.tolist()\n",
    "\n",
    "    while len(top_5_columns) < 5:\n",
    "        top_5_columns.append(np.nan)\n",
    "    \n",
    "    return top_5_columns\n",
    "\n",
    "top_5_columns_df = df.apply(get_top_5_columns_excluding_diagonal, axis=1, result_type='expand')\n",
    "\n",
    "top_5_columns_df.columns = [f'Top_{i+1}' for i in range(5)]\n",
    "\n",
    "# 打印结果\n",
    "#file2_df = top_5_columns_df\n",
    "#file2_df.set_index(file2_df.columns[0])\n",
    "#file2_df = file2_df.loc[order_list]\n",
    "#file2_df.to_csv(\"/home/rux/letter/KIBA/KIBA_Blast_top_5.csv\",header = None)\n",
    "# 保存到CSV文件\n",
    "output_file_path = '/home/rux/letter/KIBA/KIBA_Blast_top_5.csv'\n",
    "top_5_columns_df.to_csv(output_file_path, index=True,header=None)\n",
    "\n",
    "output_file_path"
   ]
  }
 ],
 "metadata": {
  "kernelspec": {
   "display_name": "letter_env",
   "language": "python",
   "name": "python3"
  },
  "language_info": {
   "codemirror_mode": {
    "name": "ipython",
    "version": 3
   },
   "file_extension": ".py",
   "mimetype": "text/x-python",
   "name": "python",
   "nbconvert_exporter": "python",
   "pygments_lexer": "ipython3",
   "version": "3.13.1"
  }
 },
 "nbformat": 4,
 "nbformat_minor": 2
}
