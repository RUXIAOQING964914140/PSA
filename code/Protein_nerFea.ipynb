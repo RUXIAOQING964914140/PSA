{
 "cells": [
  {
   "cell_type": "code",
   "execution_count": 6,
   "metadata": {},
   "outputs": [
    {
     "name": "stdout",
     "output_type": "stream",
     "text": [
      "合并后的特征已保存到 mafft/KIBA_mafft_nerfea.csv。\n"
     ]
    }
   ],
   "source": [
    "# Get neighbor features\n",
    "import pandas as pd\n",
    "\n",
    "# Read files\n",
    "protein_features_path = \"Feature/KIBA_Protein_feature.csv\"  # Path to file 1\n",
    "mafft_top5_path = \"KIBA_mafft_top_5_sorted.csv\"  # Path to file 2\n",
    "output_path = \"mafft/KIBA_mafft_nerfea.csv\"  # Output file path\n",
    "\n",
    "# Read protein features file\n",
    "df_features = pd.read_csv(protein_features_path, header=None)\n",
    "df_features.columns = [\"Protein\"] + [f\"Feature_{i}\" for i in range(1, df_features.shape[1])]\n",
    "\n",
    "# Read protein name file\n",
    "df_mafft = pd.read_csv(mafft_top5_path)\n",
    "\n",
    "# Create a list to store combined features\n",
    "combined_features = []\n",
    "\n",
    "# Iterate over each row of protein names\n",
    "for index, row in df_mafft.iterrows():\n",
    "    combined_row = []\n",
    "    for protein in row:\n",
    "        # Find the corresponding protein features\n",
    "        protein_feature = df_features[df_features[\"Protein\"] == protein].iloc[:, 1:]\n",
    "        if not protein_feature.empty:\n",
    "            combined_row.extend(protein_feature.values.flatten())\n",
    "        else:\n",
    "            print(f\"Warning: Protein {protein} not found in features file.\")\n",
    "    combined_features.append(combined_row)\n",
    "\n",
    "# Convert to DataFrame and save\n",
    "output_df = pd.DataFrame(combined_features)\n",
    "output_df.to_csv(output_path, index=False, header=False)\n",
    "\n",
    "print(f\"Combined features have been saved to {output_path}.\")\n"
   ]
  }
 ],
 "metadata": {
  "kernelspec": {
   "display_name": "letter_env",
   "language": "python",
   "name": "python3"
  },
  "language_info": {
   "codemirror_mode": {
    "name": "ipython",
    "version": 3
   },
   "file_extension": ".py",
   "mimetype": "text/x-python",
   "name": "python",
   "nbconvert_exporter": "python",
   "pygments_lexer": "ipython3",
   "version": "3.13.1"
  }
 },
 "nbformat": 4,
 "nbformat_minor": 2
}
