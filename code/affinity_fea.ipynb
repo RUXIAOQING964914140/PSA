{
 "cells": [
  {
   "cell_type": "code",
   "execution_count": 1,
   "metadata": {},
   "outputs": [],
   "source": [
    "import pandas as pd"
   ]
  },
  {
   "cell_type": "code",
   "execution_count": 23,
   "metadata": {},
   "outputs": [],
   "source": [
    "# Treat the 227 protein data rows as one group, repeat the group 2111 times\n",
    "import pandas as pd\n",
    "\n",
    "# Read the input CSV file\n",
    "df = pd.read_csv('KIBA_mafft_top_5_sorted.csv')\n",
    "df   \n",
    "\n",
    "# Repeat each row (the entire group) repeat_times times\n",
    "repeated_df = pd.concat([df] * 2111, ignore_index=True)\n",
    "\n",
    "# Save the result to a new CSV file\n",
    "repeated_df.to_csv('mafft/KIBA_mafft_top_5_2111.csv', index=False, header=None)\n"
   ]
  },
  {
   "cell_type": "code",
   "execution_count": 10,
   "metadata": {},
   "outputs": [
    {
     "name": "stdout",
     "output_type": "stream",
     "text": [
      "按行遍历的三元组已保存至 kiba_matrix_triplets.csv\n"
     ]
    }
   ],
   "source": [
    "# Convert Feature/kiba_binding_affinity_matric.txt to triplet format\n",
    "import pandas as pd\n",
    "\n",
    "# Read the data file\n",
    "file_path = \"Feature/kiba_binding_affinity_matric.txt\"  # Replace with actual path\n",
    "df = pd.read_csv(file_path, sep=\"\\t\")  # Adjust separator as needed (e.g., comma, tab, etc.)\n",
    "\n",
    "# Convert to triplet format\n",
    "triplets = df.melt(id_vars=df.columns[0], var_name=\"Protein_ID\", value_name=\"Affinity\")\n",
    "\n",
    "# Rename columns\n",
    "triplets.rename(columns={df.columns[0]: \"Drug_ID\"}, inplace=True)\n",
    "\n",
    "# Sort by Drug_ID to ensure all triplets of each drug are grouped together\n",
    "# triplets_sorted = triplets.sort_values(by=[\"Drug_ID\"])\n",
    "# Output in the original row order (following the first column’s order in the original file)\n",
    "triplets_sorted = triplets.set_index(\"Drug_ID\").loc[df.iloc[:, 0]].reset_index()\n",
    "\n",
    "# Save to file\n",
    "output_file = \"kiba_matrix_triplets.csv\"  # Replace with output path\n",
    "triplets_sorted.to_csv(output_file, index=False)\n",
    "\n",
    "print(f\"Triplets iterated by row have been saved to {output_file}\")\n"
   ]
  },
  {
   "cell_type": "code",
   "execution_count": 33,
   "metadata": {},
   "outputs": [
    {
     "name": "stdout",
     "output_type": "stream",
     "text": [
      "亲和力值已保存到 mafft/KIBA_affinity_fea.csv 文件中。\n"
     ]
    }
   ],
   "source": [
    "import pandas as pd\n",
    "\n",
    "# File paths\n",
    "triplets_path = \"kiba_matrix_triplets.csv\"  # First file (triplet format)\n",
    "mafft_path = \"mafft/KIBA_mafft_top_5_2111.csv\"  # Second file (top 5 neighbors)\n",
    "output_path = \"mafft/KIBA_affinity_fea.csv\"  # Output file path\n",
    "\n",
    "# Read files\n",
    "triplets = pd.read_csv(triplets_path, header=None)\n",
    "triplets.columns = [\"Drug\", \"Protein\", \"Affinity\"]\n",
    "\n",
    "df_mafft = pd.read_csv(mafft_path, header=None)\n",
    "\n",
    "# Create a dictionary of (Drug, Protein) pairs to affinity values\n",
    "affinity_dict = {\n",
    "    (row[\"Drug\"], row[\"Protein\"]): row[\"Affinity\"] for _, row in triplets.iterrows()\n",
    "}\n",
    "\n",
    "# List to store output results\n",
    "results = []\n",
    "\n",
    "# Iterate over each row in the mafft file\n",
    "for _, row in df_mafft.iterrows():\n",
    "    drug_id = row[0]  # Drug ID is in the first column\n",
    "    affinities = []\n",
    "    for protein_id in row[1:]:  # Remaining columns are Protein IDs\n",
    "        affinity = affinity_dict.get((drug_id, protein_id), None)  # Get affinity value\n",
    "        affinities.append(affinity)\n",
    "    results.append(affinities)\n",
    "\n",
    "# Save the results as a CSV file\n",
    "output_df = pd.DataFrame(results)\n",
    "output_df.to_csv(output_path, index=False, header=False)\n",
    "\n",
    "print(f\"Affinity values have been saved to {output_path}.\")\n"
   ]
  }
 ],
 "metadata": {
  "kernelspec": {
   "display_name": "letter_env",
   "language": "python",
   "name": "python3"
  },
  "language_info": {
   "codemirror_mode": {
    "name": "ipython",
    "version": 3
   },
   "file_extension": ".py",
   "mimetype": "text/x-python",
   "name": "python",
   "nbconvert_exporter": "python",
   "pygments_lexer": "ipython3",
   "version": "3.13.1"
  }
 },
 "nbformat": 4,
 "nbformat_minor": 2
}
